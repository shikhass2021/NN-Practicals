{
  "nbformat": 4,
  "nbformat_minor": 0,
  "metadata": {
    "colab": {
      "provenance": []
    },
    "kernelspec": {
      "name": "python3",
      "display_name": "Python 3"
    },
    "language_info": {
      "name": "python"
    }
  },
  "cells": [
    {
      "cell_type": "markdown",
      "source": [
        "How the Perceptron Algorithm Works\n",
        "\n",
        "\n",
        "\n",
        "\n",
        "Input values/One input layer\n",
        "\n",
        "Weights and Bias\n",
        "\n",
        "Net Sum\n",
        "\n",
        "Activation Function"
      ],
      "metadata": {
        "id": "tdXGg2OC27la"
      }
    },
    {
      "cell_type": "markdown",
      "source": [
        "Create a perceptron to demonstrate the following\n",
        "a. AND operation\n",
        "b. OR operation\n",
        "c. XOR operation"
      ],
      "metadata": {
        "id": "vlWkOb35Gb1M"
      }
    },
    {
      "cell_type": "markdown",
      "source": [
        "1 NOT\n",
        "\n"
      ],
      "metadata": {
        "id": "En8N9PI2GiLT"
      }
    },
    {
      "cell_type": "code",
      "execution_count": null,
      "metadata": {
        "colab": {
          "base_uri": "https://localhost:8080/"
        },
        "id": "poD7rJuYF0K1",
        "outputId": "6795347c-e204-4655-81fb-5cb42be50420"
      },
      "outputs": [
        {
          "output_type": "stream",
          "name": "stdout",
          "text": [
            "NOT(0) = 1\n",
            "NOT(1) = 0\n"
          ]
        }
      ],
      "source": [
        "import numpy as np\n",
        "\n",
        "def unit_step(v):\n",
        "\tif v >= 0:\n",
        "\t\treturn 1\n",
        "\telse:\n",
        "\t\treturn 0\n",
        "\t\n",
        "def perceptron(x, w, b):\n",
        "\tv = np.dot(w, x) + b\n",
        "\ty = unit_step(v)\n",
        "\treturn y\n",
        "\n",
        "def NOT_percep(x):\n",
        "\treturn perceptron(x, w=-1, b=0.5)\n",
        "\n",
        "print(\"NOT(0) = {}\".format(NOT_percep(0)))\n",
        "print(\"NOT(1) = {}\".format(NOT_percep(1)))"
      ]
    },
    {
      "cell_type": "markdown",
      "source": [
        "2 AND"
      ],
      "metadata": {
        "id": "j1ysHaNYGtkM"
      }
    },
    {
      "cell_type": "code",
      "source": [
        "def AND_percep(x):\n",
        "    w = np.array([1, 1])\n",
        "    b = -1.5\n",
        "    return perceptron(x, w, b)\n",
        "\n",
        "# Test\n",
        "example1 = np.array([1, 1])\n",
        "example2 = np.array([1, 0])\n",
        "example3 = np.array([0, 1])\n",
        "example4 = np.array([0, 0])\n",
        "\n",
        "l1= [example1, example2,example3, example4]\n",
        "\n",
        "target=[1,0,0,0]\n",
        "\n",
        "actual=[]\n",
        "for i in l1:\n",
        "  x = AND_percep(i)\n",
        "  actual.append(x)\n",
        "\n",
        "for i in actual:\n",
        "  error=target[i]-actual[i]\n",
        "  print(f\"Eror: \\n{error}\")\n",
        "print(\"AND({}, {}) = {}\".format(1, 1, AND_percep(example1)))\n",
        "print(\"AND({}, {}) = {}\".format(1, 0, AND_percep(example2)))\n",
        "print(\"AND({}, {}) = {}\".format(0, 1, AND_percep(example3)))\n",
        "print(\"AND({}, {}) = {}\".format(0, 0, AND_percep(example4)))"
      ],
      "metadata": {
        "colab": {
          "base_uri": "https://localhost:8080/"
        },
        "id": "d3KN3-7rGj8Q",
        "outputId": "6548b78e-5805-40ae-a9a5-f9fc362be853"
      },
      "execution_count": null,
      "outputs": [
        {
          "output_type": "stream",
          "name": "stdout",
          "text": [
            "Eror: \n",
            "0\n",
            "Eror: \n",
            "0\n",
            "Eror: \n",
            "0\n",
            "Eror: \n",
            "0\n",
            "AND(1, 1) = 1\n",
            "AND(1, 0) = 0\n",
            "AND(0, 1) = 0\n",
            "AND(0, 0) = 0\n"
          ]
        }
      ]
    },
    {
      "cell_type": "markdown",
      "source": [
        "3 OR"
      ],
      "metadata": {
        "id": "c_7pxHIOG2SI"
      }
    },
    {
      "cell_type": "code",
      "source": [
        "def OR_percep(x):\n",
        "    w = np.array([1, 1])\n",
        "    b = -0.5\n",
        "    return perceptron(x, w, b)\n",
        "\n",
        "# Test\n",
        "example1 = np.array([1, 1])\n",
        "example2 = np.array([1, 0])\n",
        "example3 = np.array([0, 1])\n",
        "example4 = np.array([0, 0])\n",
        "\n",
        "l1= [example1, example2,example3, example4]\n",
        "\n",
        "target=[1,1,1,0]\n",
        "\n",
        "actual=[]\n",
        "for i in l1:\n",
        "  x = OR_percep(i)\n",
        "  actual.append(x)\n",
        "\n",
        "for i in actual:\n",
        "  error=target[i]-actual[i]\n",
        "  print(f\"Eror: \\n{error}\")\n",
        "print(\"OR({}, {}) = {}\".format(1, 1, OR_percep(example1)))\n",
        "print(\"OR({}, {}) = {}\".format(1, 0, OR_percep(example2)))\n",
        "print(\"OR({}, {}) = {}\".format(0, 1, OR_percep(example3)))\n",
        "print(\"OR({}, {}) = {}\".format(0, 0, OR_percep(example4)))"
      ],
      "metadata": {
        "colab": {
          "base_uri": "https://localhost:8080/"
        },
        "id": "zWt01pxMGw8B",
        "outputId": "4541d47c-dd44-485d-b616-5acbcf754a36"
      },
      "execution_count": null,
      "outputs": [
        {
          "output_type": "stream",
          "name": "stdout",
          "text": [
            "Eror: \n",
            "0\n",
            "Eror: \n",
            "0\n",
            "Eror: \n",
            "0\n",
            "Eror: \n",
            "0\n",
            "OR(1, 1) = 1\n",
            "OR(1, 0) = 1\n",
            "OR(0, 1) = 1\n",
            "OR(0, 0) = 0\n"
          ]
        }
      ]
    },
    {
      "cell_type": "code",
      "source": [
        "def XOR_net(x):\n",
        "    gate_1 = AND_percep(x)\n",
        "    gate_2 = NOT_percep(gate_1)\n",
        "    gate_3 = OR_percep(x)\n",
        "    new_x = np.array([gate_2, gate_3])\n",
        "    output = AND_percep(new_x)\n",
        "    return output\n",
        "\n",
        "print(\"XOR({}, {}) = {}\".format(1, 1, XOR_net(example1)))\n",
        "print(\"XOR({}, {}) = {}\".format(1, 0, XOR_net(example2)))\n",
        "print(\"XOR({}, {}) = {}\".format(0, 1, XOR_net(example3)))\n",
        "print(\"XOR({}, {}) = {}\".format(0, 0, XOR_net(example4)))"
      ],
      "metadata": {
        "colab": {
          "base_uri": "https://localhost:8080/"
        },
        "id": "RNvGwI8Nwl6b",
        "outputId": "31b9d1ed-4598-440e-a8b8-f0573a291690"
      },
      "execution_count": null,
      "outputs": [
        {
          "output_type": "stream",
          "name": "stdout",
          "text": [
            "XOR(1, 1) = 0\n",
            "XOR(1, 0) = 1\n",
            "XOR(0, 1) = 1\n",
            "XOR(0, 0) = 0\n"
          ]
        }
      ]
    },
    {
      "cell_type": "markdown",
      "source": [
        "First, its output values can only take two possible values, 0 or 1.\n",
        "\n",
        "Secondly, the Perceptron can only be used to classify linear separable vector sets. According to the perceptron convergence theorem, the perceptron learning rule guarantees to find a solution within a finite number of steps if the provided data set is linearly separable."
      ],
      "metadata": {
        "id": "HhMzWL2x1IMF"
      }
    },
    {
      "cell_type": "code",
      "source": [
        "from numpy import array, random, dot\n",
        "\n",
        "from random import choice"
      ],
      "metadata": {
        "id": "uaff6ntI1H5k"
      },
      "execution_count": null,
      "outputs": []
    },
    {
      "cell_type": "code",
      "source": [
        "step_function = lambda x: 0 if x < 0 else 1"
      ],
      "metadata": {
        "id": "4Iwnn_wY1nbu"
      },
      "execution_count": null,
      "outputs": []
    },
    {
      "cell_type": "code",
      "source": [
        "training_dataset = [\n",
        "\n",
        "    (array([0,0,1]), 0),\n",
        "\n",
        "    (array([0,1,1]), 1),\n",
        "\n",
        "    (array([1,0,1]), 1),\n",
        "\n",
        "    (array([1,1,1]), 1),\n",
        "\n",
        "]"
      ],
      "metadata": {
        "id": "HEDkT2Dp1rHJ"
      },
      "execution_count": null,
      "outputs": []
    },
    {
      "cell_type": "code",
      "source": [
        "weights = random.rand(3)"
      ],
      "metadata": {
        "id": "SVZGm8xt1uF6"
      },
      "execution_count": null,
      "outputs": []
    },
    {
      "cell_type": "code",
      "source": [
        "error = []\n",
        "\n",
        "learning_rate = 0.2\n",
        "\n",
        "n = 100"
      ],
      "metadata": {
        "id": "-rW3pB151xuq"
      },
      "execution_count": null,
      "outputs": []
    },
    {
      "cell_type": "code",
      "source": [
        "for j in range(n):\n",
        "\n",
        "    x, expected = choice(training_dataset)\n",
        "\n",
        "    result = dot(weights, x)\n",
        "\n",
        "    err = expected-step_function(result)\n",
        "\n",
        "    error.append(err)\n",
        "\n",
        "    weights += learning_rate * err * x"
      ],
      "metadata": {
        "id": "GBMiK5cu14sb"
      },
      "execution_count": null,
      "outputs": []
    },
    {
      "cell_type": "code",
      "source": [
        "for x, _ in training_dataset:\n",
        "\n",
        "    result = dot(x, weights)\n",
        "\n",
        "    print(result, step_function(result))"
      ],
      "metadata": {
        "colab": {
          "base_uri": "https://localhost:8080/"
        },
        "id": "8cwV17ty2Gvy",
        "outputId": "314c3e60-4b28-4108-9ccc-6295c7456957"
      },
      "execution_count": null,
      "outputs": [
        {
          "output_type": "stream",
          "name": "stdout",
          "text": [
            "-0.028369951014853123 0\n",
            "0.7181094652806241 1\n",
            "0.20946138519794216 1\n",
            "0.9559408014934194 1\n"
          ]
        }
      ]
    }
  ]
}