{
  "nbformat": 4,
  "nbformat_minor": 0,
  "metadata": {
    "colab": {
      "provenance": []
    },
    "kernelspec": {
      "name": "python3",
      "display_name": "Python 3"
    },
    "language_info": {
      "name": "python"
    }
  },
  "cells": [
    {
      "cell_type": "markdown",
      "source": [
        "#1. a) Implement NOR function using perceptron network for bipolar inputs and\n",
        "#targets."
      ],
      "metadata": {
        "id": "ANfhav6dDGtk"
      }
    },
    {
      "cell_type": "code",
      "source": [
        "# Importing the required libraries\n",
        "import numpy as np\n"
      ],
      "metadata": {
        "id": "Bk4Hd5hcDLjL"
      },
      "execution_count": null,
      "outputs": []
    },
    {
      "cell_type": "code",
      "source": [
        "\n",
        "# Defining the activation function\n",
        "def activation_function(y):\n",
        "    if y > 0:\n",
        "        y = 1\n",
        "    elif y <= 0:\n",
        "        y = 0\n",
        "    return y"
      ],
      "metadata": {
        "id": "rNnyNUsCDN-r"
      },
      "execution_count": null,
      "outputs": []
    },
    {
      "cell_type": "code",
      "source": [
        "# W = weights of the perceptron model\n",
        "W = np.array([-1, -1])\n",
        "# b = bias of the model\n",
        "b = 1"
      ],
      "metadata": {
        "id": "h-JyOTbZDPXb"
      },
      "execution_count": null,
      "outputs": []
    },
    {
      "cell_type": "code",
      "source": [
        "# Defining the perceptron algorithm\n",
        "def perceptron_algorithm(x):\n",
        "    # y = w1x1 + w2x2 + b\n",
        "    y = np.dot(W, x) + b\n",
        "    # y = 1 if Wx+b > 0 else y = 0 \n",
        "    y = activation_function(y)\n",
        "    return y"
      ],
      "metadata": {
        "id": "D4CzswRoEBI_"
      },
      "execution_count": null,
      "outputs": []
    },
    {
      "cell_type": "code",
      "source": [
        "# Input values to verify the NOR logic \n",
        "input1 = np.array([0, 0])\n",
        "input2 = np.array([0, 1])\n",
        "input3 = np.array([1, 0])\n",
        "input4 = np.array([1, 1])\n",
        "\n"
      ],
      "metadata": {
        "id": "awe7IS1gEUOd"
      },
      "execution_count": null,
      "outputs": []
    },
    {
      "cell_type": "code",
      "execution_count": null,
      "metadata": {
        "colab": {
          "base_uri": "https://localhost:8080/"
        },
        "id": "Nlmfg5TrCyxr",
        "outputId": "fa82edd2-78c3-471a-f36c-a6e8ed666a7a"
      },
      "outputs": [
        {
          "output_type": "stream",
          "name": "stdout",
          "text": [
            "NOR Logic truth table: \n",
            "\n",
            "x1 = 0 | x2 = 0 Result=> y = 1\n",
            "x1 = 0 | x2 = 1 Result=> y = 0\n",
            "x1 = 1 | x2 = 0 Result=> y = 0\n",
            "x1 = 1 | x2 = 1 Result=> y = 0\n"
          ]
        }
      ],
      "source": [
        "# Printing the truth table\n",
        "\n",
        "print('NOR Logic truth table: \\n')\n",
        "print(f'x1 = 0 | x2 = 0 Result=> y = {perceptron_algorithm(input1)}')\n",
        "print(f'x1 = 0 | x2 = 1 Result=> y = {perceptron_algorithm(input2)}')\n",
        "print(f'x1 = 1 | x2 = 0 Result=> y = {perceptron_algorithm(input3)}')\n",
        "print(f'x1 = 1 | x2 = 1 Result=> y = {perceptron_algorithm(input4)}')"
      ]
    },
    {
      "cell_type": "markdown",
      "source": [],
      "metadata": {
        "id": "gW4oINOAEZDO"
      }
    },
    {
      "cell_type": "code",
      "source": [],
      "metadata": {
        "id": "vvFNocMDC9jD"
      },
      "execution_count": null,
      "outputs": []
    }
  ]
}