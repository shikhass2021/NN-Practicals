{
  "nbformat": 4,
  "nbformat_minor": 0,
  "metadata": {
    "colab": {
      "provenance": []
    },
    "kernelspec": {
      "name": "python3",
      "display_name": "Python 3"
    },
    "language_info": {
      "name": "python"
    }
  },
  "cells": [
    {
      "cell_type": "markdown",
      "source": [
        "Implementation of ADALINE Network\n"
      ],
      "metadata": {
        "id": "fTDPLDJE5aCb"
      }
    },
    {
      "cell_type": "markdown",
      "source": [
        "1. Implement the classification of OR problem using ADALINE network"
      ],
      "metadata": {
        "id": "2zbDy6Ad5eOK"
      }
    },
    {
      "cell_type": "markdown",
      "source": [
        "Adaline, like Perceptron, also mimics a neuron in the human brain. You may want to read one of my related posts on Perceptron — Perceptron explained using Python example. Adaline is also called as single-layer neural network. Here is the diagram of Adaline:"
      ],
      "metadata": {
        "id": "h7w0zj926baE"
      }
    },
    {
      "cell_type": "code",
      "source": [
        "# import the module numpy\n",
        "import numpy as np\n",
        "\n",
        "# two inputs\n",
        "features = np.array(\n",
        "\t[\n",
        "\t\t[-1, -1],\n",
        "\t\t[-1, 1],\n",
        "\t\t[1, -1],\n",
        "\t\t[1, 1]\n",
        "\t])\n",
        "\n",
        "\n",
        "# labels for the or model, here the output for\n",
        "\n",
        "labels = np.array([-1, 1, 1, 1])\n",
        "\n",
        "# to print the features and the labels for\n",
        "print(features, labels)\n",
        "\n",
        "# initialise weights, bias , learning rate, epoch\n",
        "weight = [0.5, 0.5]\n",
        "bias = 0.1\n",
        "learning_rate = 0.2\n",
        "epoch = 10\n",
        "\n",
        "for i in range(epoch):\n",
        "\n",
        "\t# epoch is the number of the model is trained\n",
        "\t# with the same data\n",
        "\tprint(\"epoch :\", i+1)\n",
        "\n",
        "\t# variable to check if there is no change in previous\n",
        "\t# weight and present calculated weight\n",
        "\t# initial error is kept as 0\n",
        "\tsum_squared_error = 0.0\n",
        "\n",
        "\t# for each of the possible input given in the features\n",
        "\tfor j in range(features.shape[0]):\n",
        "\n",
        "\t\t# actual output to be obtained\n",
        "\t\tactual = labels[j]\n",
        "\n",
        "\t\t# the value of two features as given in the features\n",
        "\t\t# array\n",
        "\t\tx1 = features[j][0]\n",
        "\t\tx2 = features[j][1]\n",
        "\n",
        "\t\t# net unit value computation performed to obtain the\n",
        "\t\t# sum of features multiplied with their weights\n",
        "\t\tunit = (x1 * weight[0]) + (x2 * weight[1]) + bias\n",
        "\n",
        "\t\t# error is computed so as to update the weights\n",
        "\t\terror = actual - unit\n",
        "\n",
        "\t\t# print statement to print the actual value , predicted\n",
        "\t\t# value and the error\n",
        "\t\tprint(\"error =\", error)\n",
        "\n",
        "\t\t# summation of squared error is calculated\n",
        "\t\tsum_squared_error += error * error\n",
        "\n",
        "\t\t# updation of weights, summing up of product of learning rate ,\n",
        "\t\t# sum of squared error and feature value\n",
        "\t\tweight[0] += learning_rate * error * x1\n",
        "\t\tweight[1] += learning_rate * error * x2\n",
        "\n",
        "\t\t# updation of bias, summing up of product of learning rate and\n",
        "\t\t# sum of squared error\n",
        "\t\tbias += learning_rate * error\n",
        "\n",
        "\tprint(\"sum of squared error = \", sum_squared_error/4, \"\\n\\n\")\n"
      ],
      "metadata": {
        "colab": {
          "base_uri": "https://localhost:8080/"
        },
        "id": "FkhEiwpk5rPa",
        "outputId": "6b6039ec-74a6-46d4-a282-7f6f94fa2106"
      },
      "execution_count": null,
      "outputs": [
        {
          "output_type": "stream",
          "name": "stdout",
          "text": [
            "[[-1 -1]\n",
            " [-1  1]\n",
            " [ 1 -1]\n",
            " [ 1  1]] [-1  1  1  1]\n",
            "epoch : 1\n",
            "error = -0.09999999999999998\n",
            "error = 0.9199999999999999\n",
            "error = 1.1039999999999999\n",
            "error = -0.5247999999999999\n",
            "sum of squared error =  0.5876577599999998 \n",
            "\n",
            "\n",
            "epoch : 2\n",
            "error = -0.54976\n",
            "error = 0.803712\n",
            "error = 0.8172543999999999\n",
            "error = -0.64406528\n",
            "sum of squared error =  0.5077284689412096 \n",
            "\n",
            "\n",
            "epoch : 3\n",
            "error = -0.6729103360000002\n",
            "error = 0.7483308032\n",
            "error = 0.7399630438400001\n",
            "error = -0.6898669486079996\n",
            "sum of squared error =  0.5090672560860652 \n",
            "\n",
            "\n",
            "epoch : 4\n",
            "error = -0.7047962935296\n",
            "error = 0.72625757847552\n",
            "error = 0.7201693816586239\n",
            "error = -0.7061914301759491\n",
            "sum of squared error =  0.5103845399996764 \n",
            "\n",
            "\n",
            "epoch : 5\n",
            "error = -0.7124421954738586\n",
            "error = 0.7182636328518943\n",
            "error = 0.7154472043637898\n",
            "error = -0.7117071786082882\n",
            "sum of squared error =  0.5104670846209363 \n",
            "\n",
            "\n",
            "epoch : 6\n",
            "error = -0.714060481354338\n",
            "error = 0.715548426006041\n",
            "error = 0.7144420989392495\n",
            "error = -0.7134930727032405\n",
            "sum of squared error =  0.5103479496309858 \n",
            "\n",
            "\n",
            "epoch : 7\n",
            "error = -0.7143209120714415\n",
            "error = 0.7146705871452027\n",
            "error = 0.7142737539596766\n",
            "error = -0.7140502797165604\n",
            "sum of squared error =  0.5102658027779979 \n",
            "\n",
            "\n",
            "epoch : 8\n",
            "error = -0.7143272889928647\n",
            "error = 0.7143984993919014\n",
            "error = 0.7142647152041359\n",
            "error = -0.7142182126044045\n",
            "sum of squared error =  0.510227607583693 \n",
            "\n",
            "\n",
            "epoch : 9\n",
            "error = -0.7143072010372341\n",
            "error = 0.7143174255259156\n",
            "error = 0.7142744539151652\n",
            "error = -0.7142671011374249\n",
            "sum of squared error =  0.5102124122866718 \n",
            "\n",
            "\n",
            "epoch : 10\n",
            "error = -0.7142946765305948\n",
            "error = 0.7142942165270032\n",
            "error = 0.7142809804050706\n",
            "error = -0.7142808151475037\n",
            "sum of squared error =  0.5102068786350209 \n",
            "\n",
            "\n"
          ]
        }
      ]
    }
  ]
}